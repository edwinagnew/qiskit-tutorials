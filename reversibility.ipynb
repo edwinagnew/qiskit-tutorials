{
 "cells": [
  {
   "cell_type": "markdown",
   "metadata": {},
   "source": [
    "## Run these to initialise functions"
   ]
  },
  {
   "cell_type": "code",
   "execution_count": 1,
   "metadata": {},
   "outputs": [],
   "source": [
    "from qiskit import QuantumCircuit, QuantumRegister, ClassicalRegister, execute, BasicAer\n",
    "def simulate(circuit, shots=1024, x=\"0\", verbose=False):\n",
    "    names = []\n",
    "    regs = []\n",
    "    for q in circuit.qubits:\n",
    "        name = q.register.name\n",
    "        size = len(q.register)\n",
    "        if name not in names:\n",
    "            names.append(name)\n",
    "            regs.append(size)\n",
    "\n",
    "    if verbose: print(names, regs)\n",
    "\n",
    "    #assuming that we only have 2: control + anciallary\n",
    "    qra = QuantumRegister(regs[0], name=names[0])\n",
    "    if len(regs) > 1:\n",
    "        qran = QuantumRegister(regs[1], name=names[1])\n",
    "        qa = QuantumCircuit(qra,qran)\n",
    "    else:\n",
    "        qa = QuantumCircuit(qra)\n",
    "\n",
    "    if len(x) != sum(regs): x += \"0\" * (sum(regs) - len(x))\n",
    "    x = x[::-1]\n",
    "    if verbose: print(x)\n",
    "    for bit in range(len(x)):\n",
    "        if verbose: print(x[bit], type(x[bit]))\n",
    "        if x[bit] != \"0\":\n",
    "            qa.x(bit)\n",
    "    qa.barrier()\n",
    "\n",
    "    qa.extend(circuit)\n",
    "\n",
    "    if verbose:\n",
    "        print(qa)\n",
    "\n",
    "    backend = BasicAer.get_backend('qasm_simulator')\n",
    "    results = execute(qa, backend=backend, shots=shots).result()\n",
    "    answer = results.get_counts()\n",
    "    return answer"
   ]
  },
  {
   "cell_type": "code",
   "execution_count": 2,
   "metadata": {},
   "outputs": [],
   "source": [
    "def results(qc, x=\"0\", verbose=False):\n",
    "    qc2 = qc.copy()\n",
    "    qc2.measure_all()\n",
    "    return sorted(list(simulate(qc2, x=x, verbose=verbose)))\n",
    "def reverse_results(qc, x=\"0\", verbose=False):\n",
    "    qc2 = qc.inverse().copy()\n",
    "    return results(qc2, x, verbose)"
   ]
  },
  {
   "cell_type": "code",
   "execution_count": 3,
   "metadata": {},
   "outputs": [],
   "source": [
    "def get_graphs(qc, verbose=False):\n",
    "    forward_graph = {}\n",
    "    backward_graph = {}\n",
    "    n = qc.num_qubits\n",
    "    for i in range(2**n):\n",
    "        b_string = format(i, '0' + str(n) + 'b')\n",
    "        forward_graph[b_string] = results(qc, b_string)\n",
    "        backward_graph[b_string] = reverse_results(qc, b_string)\n",
    "        if verbose: print(b_string, forward_graph[b_string], backward_graph[b_string])\n",
    "    return forward_graph, backward_graph"
   ]
  },
  {
   "cell_type": "code",
   "execution_count": 4,
   "metadata": {},
   "outputs": [],
   "source": [
    "def create_map(f):\n",
    "    if type(f) == QuantumCircuit: f, _ = get_graphs(f, verbose=False)\n",
    "    d = {}\n",
    "    for f_i in f:\n",
    "        o = f[f_i]\n",
    "        d[tuple([k for k,v in f.items() if v == o])] = tuple(o)\n",
    "    return d"
   ]
  },
  {
   "cell_type": "code",
   "execution_count": 5,
   "metadata": {},
   "outputs": [],
   "source": [
    "import random\n",
    "def create_random_circuit(n,k):\n",
    "    qc = QuantumCircuit(n)\n",
    "    for i in range(k):\n",
    "        if random.random() < 0.25:\n",
    "            qc.x(i%n)\n",
    "        if random.random() < 0.25:\n",
    "            qc.y(i%n)\n",
    "        if random.random() < 0.25:\n",
    "            qc.z(i%n)\n",
    "        if random.random() < 0.25:\n",
    "            qc.h(i%n)\n",
    "        if n > 1 and random.random() < 0.25:\n",
    "            a = i%n\n",
    "            b = random.randint(0,n-1)\n",
    "            while b == a: a = random.randint(0,n-1)\n",
    "            qc.cx(a, b)\n",
    "    return qc"
   ]
  },
  {
   "cell_type": "code",
   "execution_count": null,
   "metadata": {},
   "outputs": [],
   "source": []
  },
  {
   "cell_type": "markdown",
   "metadata": {},
   "source": [
    "## Create and test circuits here"
   ]
  },
  {
   "cell_type": "code",
   "execution_count": 10,
   "metadata": {},
   "outputs": [
    {
     "data": {
      "text/plain": [
       "{('00000', '00001', '01000', '01001'): ('10010', '10110', '11010', '11110'),\n",
       " ('00010', '00011', '01010', '01011'): ('10001', '10101', '11001', '11101'),\n",
       " ('00100', '00101', '01100', '01101'): ('10011', '10111', '11011', '11111'),\n",
       " ('00110', '00111', '01110', '01111'): ('10000', '10100', '11000', '11100'),\n",
       " ('10000', '10001', '11000', '11001'): ('00010', '00110', '01010', '01110'),\n",
       " ('10010', '10011', '11010', '11011'): ('00001', '00101', '01001', '01101'),\n",
       " ('10100', '10101', '11100', '11101'): ('00011', '00111', '01011', '01111'),\n",
       " ('10110', '10111', '11110', '11111'): ('00000', '00100', '01000', '01100')}"
      ]
     },
     "execution_count": 10,
     "metadata": {},
     "output_type": "execute_result"
    }
   ],
   "source": [
    "q = create_random_circuit(5, 10)\n",
    "create_map(q)"
   ]
  },
  {
   "cell_type": "code",
   "execution_count": 11,
   "metadata": {},
   "outputs": [
    {
     "data": {
      "image/png": "[encoded data removed]",
      "text/plain": [
       "<Figure size 780.192x325.08 with 1 Axes>"
      ]
     },
     "execution_count": 11,
     "metadata": {},
     "output_type": "execute_result"
    }
   ],
   "source": [
    "q.draw(output='mpl')"
   ]
  },
  {
   "cell_type": "code",
   "execution_count": 12,
   "metadata": {},
   "outputs": [
    {
     "data": {
      "text/plain": [
       "({'00000': ['10010', '10110', '11010', '11110'],\n",
       "  '00001': ['10010', '10110', '11010', '11110'],\n",
       "  '00010': ['10001', '10101', '11001', '11101'],\n",
       "  '00011': ['10001', '10101', '11001', '11101'],\n",
       "  '00100': ['10011', '10111', '11011', '11111'],\n",
       "  '00101': ['10011', '10111', '11011', '11111'],\n",
       "  '00110': ['10000', '10100', '11000', '11100'],\n",
       "  '00111': ['10000', '10100', '11000', '11100'],\n",
       "  '01000': ['10010', '10110', '11010', '11110'],\n",
       "  '01001': ['10010', '10110', '11010', '11110'],\n",
       "  '01010': ['10001', '10101', '11001', '11101'],\n",
       "  '01011': ['10001', '10101', '11001', '11101'],\n",
       "  '01100': ['10011', '10111', '11011', '11111'],\n",
       "  '01101': ['10011', '10111', '11011', '11111'],\n",
       "  '01110': ['10000', '10100', '11000', '11100'],\n",
       "  '01111': ['10000', '10100', '11000', '11100'],\n",
       "  '10000': ['00010', '00110', '01010', '01110'],\n",
       "  '10001': ['00010', '00110', '01010', '01110'],\n",
       "  '10010': ['00001', '00101', '01001', '01101'],\n",
       "  '10011': ['00001', '00101', '01001', '01101'],\n",
       "  '10100': ['00011', '00111', '01011', '01111'],\n",
       "  '10101': ['00011', '00111', '01011', '01111'],\n",
       "  '10110': ['00000', '00100', '01000', '01100'],\n",
       "  '10111': ['00000', '00100', '01000', '01100'],\n",
       "  '11000': ['00010', '00110', '01010', '01110'],\n",
       "  '11001': ['00010', '00110', '01010', '01110'],\n",
       "  '11010': ['00001', '00101', '01001', '01101'],\n",
       "  '11011': ['00001', '00101', '01001', '01101'],\n",
       "  '11100': ['00011', '00111', '01011', '01111'],\n",
       "  '11101': ['00011', '00111', '01011', '01111'],\n",
       "  '11110': ['00000', '00100', '01000', '01100'],\n",
       "  '11111': ['00000', '00100', '01000', '01100']},\n",
       " {'00000': ['10110', '10111', '11110', '11111'],\n",
       "  '00001': ['10010', '10011', '11010', '11011'],\n",
       "  '00010': ['10000', '10001', '11000', '11001'],\n",
       "  '00011': ['10100', '10101', '11100', '11101'],\n",
       "  '00100': ['10110', '10111', '11110', '11111'],\n",
       "  '00101': ['10010', '10011', '11010', '11011'],\n",
       "  '00110': ['10000', '10001', '11000', '11001'],\n",
       "  '00111': ['10100', '10101', '11100', '11101'],\n",
       "  '01000': ['10110', '10111', '11110', '11111'],\n",
       "  '01001': ['10010', '10011', '11010', '11011'],\n",
       "  '01010': ['10000', '10001', '11000', '11001'],\n",
       "  '01011': ['10100', '10101', '11100', '11101'],\n",
       "  '01100': ['10110', '10111', '11110', '11111'],\n",
       "  '01101': ['10010', '10011', '11010', '11011'],\n",
       "  '01110': ['10000', '10001', '11000', '11001'],\n",
       "  '01111': ['10100', '10101', '11100', '11101'],\n",
       "  '10000': ['00110', '00111', '01110', '01111'],\n",
       "  '10001': ['00010', '00011', '01010', '01011'],\n",
       "  '10010': ['00000', '00001', '01000', '01001'],\n",
       "  '10011': ['00100', '00101', '01100', '01101'],\n",
       "  '10100': ['00110', '00111', '01110', '01111'],\n",
       "  '10101': ['00010', '00011', '01010', '01011'],\n",
       "  '10110': ['00000', '00001', '01000', '01001'],\n",
       "  '10111': ['00100', '00101', '01100', '01101'],\n",
       "  '11000': ['00110', '00111', '01110', '01111'],\n",
       "  '11001': ['00010', '00011', '01010', '01011'],\n",
       "  '11010': ['00000', '00001', '01000', '01001'],\n",
       "  '11011': ['00100', '00101', '01100', '01101'],\n",
       "  '11100': ['00110', '00111', '01110', '01111'],\n",
       "  '11101': ['00010', '00011', '01010', '01011'],\n",
       "  '11110': ['00000', '00001', '01000', '01001'],\n",
       "  '11111': ['00100', '00101', '01100', '01101']})"
      ]
     },
     "execution_count": 12,
     "metadata": {},
     "output_type": "execute_result"
    }
   ],
   "source": [
    "get_graphs(q, verbose=False)"
   ]
  },
  {
   "cell_type": "code",
   "execution_count": null,
   "metadata": {},
   "outputs": [],
   "source": []
  }
 ],
 "metadata": {
  "kernelspec": {
   "display_name": "Python 3",
   "language": "python",
   "name": "python3"
  },
  "language_info": {
   "codemirror_mode": {
    "name": "ipython",
    "version": 3
   },
   "file_extension": ".py",
   "mimetype": "text/x-python",
   "name": "python",
   "nbconvert_exporter": "python",
   "pygments_lexer": "ipython3",
   "version": "3.7.6"
  }
 },
 "nbformat": 4,
 "nbformat_minor": 4
}
